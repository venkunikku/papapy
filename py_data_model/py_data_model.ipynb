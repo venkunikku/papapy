{
 "cells": [
  {
   "cell_type": "code",
   "execution_count": null,
   "id": "16d761f8-206e-4fde-ac2a-ca2a514352c8",
   "metadata": {},
   "outputs": [
    {
     "ename": "",
     "evalue": "",
     "output_type": "error",
     "traceback": [
      "\u001b[1;31mRunning cells with '/usr/bin/python3' requires the ipykernel package.\n",
      "\u001b[1;31mRun the following command to install 'ipykernel' into the Python environment. \n",
      "\u001b[1;31mCommand: '/usr/bin/python3 -m pip install ipykernel -U --user --force-reinstall'"
     ]
    }
   ],
   "source": [
    "from platform import python_version\n",
    "python_version()"
   ]
  },
  {
   "cell_type": "code",
   "execution_count": null,
   "id": "2a028f26",
   "metadata": {},
   "outputs": [],
   "source": []
  },
  {
   "cell_type": "code",
   "execution_count": 2,
   "id": "82169a08-8e5e-41ae-9489-dc9e214e0a43",
   "metadata": {},
   "outputs": [],
   "source": [
    "import collections"
   ]
  },
  {
   "cell_type": "code",
   "execution_count": 4,
   "id": "0da2e590-56b5-4b2d-bb0e-34d72358eb4c",
   "metadata": {},
   "outputs": [
    {
     "data": {
      "text/plain": [
       "\u001b[1;31mSignature:\u001b[0m\n",
       "\u001b[0mcollections\u001b[0m\u001b[1;33m.\u001b[0m\u001b[0mnamedtuple\u001b[0m\u001b[1;33m(\u001b[0m\u001b[1;33m\n",
       "\u001b[0m    \u001b[0mtypename\u001b[0m\u001b[1;33m,\u001b[0m\u001b[1;33m\n",
       "\u001b[0m    \u001b[0mfield_names\u001b[0m\u001b[1;33m,\u001b[0m\u001b[1;33m\n",
       "\u001b[0m    \u001b[1;33m*\u001b[0m\u001b[1;33m,\u001b[0m\u001b[1;33m\n",
       "\u001b[0m    \u001b[0mrename\u001b[0m\u001b[1;33m=\u001b[0m\u001b[1;32mFalse\u001b[0m\u001b[1;33m,\u001b[0m\u001b[1;33m\n",
       "\u001b[0m    \u001b[0mdefaults\u001b[0m\u001b[1;33m=\u001b[0m\u001b[1;32mNone\u001b[0m\u001b[1;33m,\u001b[0m\u001b[1;33m\n",
       "\u001b[0m    \u001b[0mmodule\u001b[0m\u001b[1;33m=\u001b[0m\u001b[1;32mNone\u001b[0m\u001b[1;33m,\u001b[0m\u001b[1;33m\n",
       "\u001b[0m\u001b[1;33m)\u001b[0m\u001b[1;33m\u001b[0m\u001b[1;33m\u001b[0m\u001b[0m\n",
       "\u001b[1;31mDocstring:\u001b[0m\n",
       "Returns a new subclass of tuple with named fields.\n",
       "\n",
       ">>> Point = namedtuple('Point', ['x', 'y'])\n",
       ">>> Point.__doc__                   # docstring for the new class\n",
       "'Point(x, y)'\n",
       ">>> p = Point(11, y=22)             # instantiate with positional args or keywords\n",
       ">>> p[0] + p[1]                     # indexable like a plain tuple\n",
       "33\n",
       ">>> x, y = p                        # unpack like a regular tuple\n",
       ">>> x, y\n",
       "(11, 22)\n",
       ">>> p.x + p.y                       # fields also accessible by name\n",
       "33\n",
       ">>> d = p._asdict()                 # convert to a dictionary\n",
       ">>> d['x']\n",
       "11\n",
       ">>> Point(**d)                      # convert from a dictionary\n",
       "Point(x=11, y=22)\n",
       ">>> p._replace(x=100)               # _replace() is like str.replace() but targets named fields\n",
       "Point(x=100, y=22)\n",
       "\u001b[1;31mFile:\u001b[0m      c:\\users\\venku\\anaconda3\\envs\\fluentpy\\lib\\collections\\__init__.py\n",
       "\u001b[1;31mType:\u001b[0m      function\n"
      ]
     },
     "metadata": {},
     "output_type": "display_data"
    }
   ],
   "source": [
    "collections.namedtuple?"
   ]
  },
  {
   "cell_type": "code",
   "execution_count": 26,
   "id": "31088162-96c0-4eec-9507-9c77acba1cf6",
   "metadata": {},
   "outputs": [],
   "source": [
    "# Card is a class here. If you want to create a class that does not need any menthods, then you can use namedtuples\n",
    "Card = collections.namedtuple(\"Card\", ['rank', 'suit'])"
   ]
  },
  {
   "cell_type": "code",
   "execution_count": 27,
   "id": "62dbd929-23d1-49a6-ac23-28f529eec77a",
   "metadata": {},
   "outputs": [
    {
     "data": {
      "text/plain": [
       "Card(rank='7', suit='diamond')"
      ]
     },
     "execution_count": 27,
     "metadata": {},
     "output_type": "execute_result"
    }
   ],
   "source": [
    "Card('7', 'diamond')"
   ]
  },
  {
   "cell_type": "code",
   "execution_count": 13,
   "id": "8c614f68-f48e-4078-9aac-5a505da62882",
   "metadata": {},
   "outputs": [
    {
     "data": {
      "text/plain": [
       "type"
      ]
     },
     "execution_count": 13,
     "metadata": {},
     "output_type": "execute_result"
    }
   ],
   "source": [
    "type(Card)"
   ]
  },
  {
   "cell_type": "code",
   "execution_count": 16,
   "id": "4237082f-951d-45c9-947e-6c4b5ebc36bf",
   "metadata": {},
   "outputs": [
    {
     "data": {
      "text/plain": [
       "['2', '3', '4', '5', '6', '7', '8', '9', '10', 'J', 'Q', 'K', 'A']"
      ]
     },
     "execution_count": 16,
     "metadata": {},
     "output_type": "execute_result"
    }
   ],
   "source": [
    "[str(n) for n in range(2, 11)] + list('JQKA')"
   ]
  },
  {
   "cell_type": "code",
   "execution_count": 20,
   "id": "1990f460-afdb-47a2-b655-455732650f3f",
   "metadata": {},
   "outputs": [
    {
     "data": {
      "text/plain": [
       "['spades', 'diamonds', 'clubs', 'hearts']"
      ]
     },
     "execution_count": 20,
     "metadata": {},
     "output_type": "execute_result"
    }
   ],
   "source": [
    "'spades diamonds clubs hearts'.split()"
   ]
  },
  {
   "cell_type": "code",
   "execution_count": 24,
   "id": "5a309f91-a802-47e8-b5e2-d7caf064a9b4",
   "metadata": {},
   "outputs": [
    {
     "data": {
      "text/plain": [
       "[('2', 'spades'),\n",
       " ('3', 'spades'),\n",
       " ('J', 'spades'),\n",
       " ('Q', 'spades'),\n",
       " ('K', 'spades'),\n",
       " ('A', 'spades'),\n",
       " ('2', 'diamonds'),\n",
       " ('3', 'diamonds'),\n",
       " ('J', 'diamonds'),\n",
       " ('Q', 'diamonds'),\n",
       " ('K', 'diamonds'),\n",
       " ('A', 'diamonds'),\n",
       " ('2', 'clubs'),\n",
       " ('3', 'clubs'),\n",
       " ('J', 'clubs'),\n",
       " ('Q', 'clubs'),\n",
       " ('K', 'clubs'),\n",
       " ('A', 'clubs')]"
      ]
     },
     "execution_count": 24,
     "metadata": {},
     "output_type": "execute_result"
    }
   ],
   "source": [
    "ranks = [str(n) for n in range(2, 4)] + list('JQKA')\n",
    "suits = 'spades diamonds clubs'.split()\n",
    "[(rank, suit) for suit in suits for rank in ranks]"
   ]
  },
  {
   "cell_type": "code",
   "execution_count": 39,
   "id": "8b0e2dcd-ca2b-4df4-a578-7e8ee8b96c71",
   "metadata": {},
   "outputs": [],
   "source": [
    "class FrenchDeck:\n",
    "    ranks = [str(n) for n in range(2, 11)] + list('JQKA')\n",
    "    suits = 'spades diamonds clubs hearts'.split()\n",
    "    # dunder method\n",
    "    def __init__(self):\n",
    "        self._cards = [Card(rank, suit) for suit in self.suits for rank in self.ranks]\n",
    "        \n",
    "    def __len__(self):\n",
    "        return len(self._cards)\n",
    "    \n",
    "    # this delegates to [] operator\n",
    "    def __getitem__(self, position):\n",
    "        print(position)\n",
    "        return self._cards[position]"
   ]
  },
  {
   "cell_type": "code",
   "execution_count": 40,
   "id": "6202b6f3-2133-4120-a439-96011db73c39",
   "metadata": {},
   "outputs": [],
   "source": [
    "deck = FrenchDeck()"
   ]
  },
  {
   "cell_type": "code",
   "execution_count": 41,
   "id": "6c8dbbff-f0c3-43d6-a813-f8640007c53a",
   "metadata": {},
   "outputs": [
    {
     "name": "stdout",
     "output_type": "stream",
     "text": [
      "0\n"
     ]
    },
    {
     "data": {
      "text/plain": [
       "Card(rank='2', suit='spades')"
      ]
     },
     "execution_count": 41,
     "metadata": {},
     "output_type": "execute_result"
    }
   ],
   "source": [
    "# since we have __getitem__ you can access using []\n",
    "deck[0]"
   ]
  },
  {
   "cell_type": "code",
   "execution_count": 46,
   "id": "66466260-d735-4949-a0ba-2cd1e88b9b0c",
   "metadata": {},
   "outputs": [
    {
     "data": {
      "text/plain": [
       "\u001b[1;31mSignature:\u001b[0m \u001b[0mchoice\u001b[0m\u001b[1;33m(\u001b[0m\u001b[0mseq\u001b[0m\u001b[1;33m)\u001b[0m\u001b[1;33m\u001b[0m\u001b[1;33m\u001b[0m\u001b[0m\n",
       "\u001b[1;31mDocstring:\u001b[0m Choose a random element from a non-empty sequence.\n",
       "\u001b[1;31mFile:\u001b[0m      c:\\users\\venku\\anaconda3\\envs\\fluentpy\\lib\\random.py\n",
       "\u001b[1;31mType:\u001b[0m      method\n"
      ]
     },
     "metadata": {},
     "output_type": "display_data"
    }
   ],
   "source": [
    "# you can use rando to suffle\n",
    "from random import choice\n",
    "choice?"
   ]
  },
  {
   "cell_type": "code",
   "execution_count": 48,
   "id": "5e822951-3966-4a02-b52d-76b090a20aa0",
   "metadata": {},
   "outputs": [
    {
     "data": {
      "text/plain": [
       "3"
      ]
     },
     "execution_count": 48,
     "metadata": {},
     "output_type": "execute_result"
    }
   ],
   "source": [
    "s = [1,2,3,]\n",
    "choice(s)"
   ]
  },
  {
   "cell_type": "code",
   "execution_count": 49,
   "id": "2c66b553-924f-4848-9b85-926f49c62766",
   "metadata": {},
   "outputs": [
    {
     "data": {
      "text/plain": [
       "2"
      ]
     },
     "execution_count": 49,
     "metadata": {},
     "output_type": "execute_result"
    }
   ],
   "source": [
    "choice(s)"
   ]
  },
  {
   "cell_type": "code",
   "execution_count": 43,
   "id": "626a7e0f-6434-4593-b9ea-efc029c57121",
   "metadata": {},
   "outputs": [
    {
     "name": "stdout",
     "output_type": "stream",
     "text": [
      "26\n"
     ]
    },
    {
     "data": {
      "text/plain": [
       "Card(rank='2', suit='clubs')"
      ]
     },
     "execution_count": 43,
     "metadata": {},
     "output_type": "execute_result"
    }
   ],
   "source": [
    "choice(deck)"
   ]
  },
  {
   "cell_type": "code",
   "execution_count": 44,
   "id": "cc8bb038-67c2-400a-b624-860a977e3ceb",
   "metadata": {},
   "outputs": [
    {
     "name": "stdout",
     "output_type": "stream",
     "text": [
      "6\n"
     ]
    },
    {
     "data": {
      "text/plain": [
       "Card(rank='8', suit='spades')"
      ]
     },
     "execution_count": 44,
     "metadata": {},
     "output_type": "execute_result"
    }
   ],
   "source": [
    "choice(deck)"
   ]
  },
  {
   "cell_type": "code",
   "execution_count": 45,
   "id": "418c76c3-8bf0-496a-8966-3cea8b361c39",
   "metadata": {},
   "outputs": [
    {
     "name": "stdout",
     "output_type": "stream",
     "text": [
      "slice(None, 4, None)\n"
     ]
    },
    {
     "data": {
      "text/plain": [
       "[Card(rank='2', suit='spades'),\n",
       " Card(rank='3', suit='spades'),\n",
       " Card(rank='4', suit='spades'),\n",
       " Card(rank='5', suit='spades')]"
      ]
     },
     "execution_count": 45,
     "metadata": {},
     "output_type": "execute_result"
    }
   ],
   "source": [
    "deck[:4]"
   ]
  },
  {
   "cell_type": "code",
   "execution_count": 51,
   "id": "1a12c6b1-6079-43be-b385-dcd77dcd6436",
   "metadata": {},
   "outputs": [
    {
     "name": "stdout",
     "output_type": "stream",
     "text": [
      "0\n",
      "Card(rank='2', suit='spades')\n",
      "1\n",
      "Card(rank='3', suit='spades')\n",
      "2\n",
      "Card(rank='4', suit='spades')\n",
      "3\n",
      "Card(rank='5', suit='spades')\n",
      "4\n",
      "Card(rank='6', suit='spades')\n",
      "5\n",
      "Card(rank='7', suit='spades')\n",
      "6\n",
      "Card(rank='8', suit='spades')\n",
      "7\n",
      "Card(rank='9', suit='spades')\n",
      "8\n",
      "Card(rank='10', suit='spades')\n",
      "9\n",
      "Card(rank='J', suit='spades')\n",
      "10\n",
      "Card(rank='Q', suit='spades')\n",
      "11\n",
      "Card(rank='K', suit='spades')\n",
      "12\n",
      "Card(rank='A', suit='spades')\n",
      "13\n",
      "Card(rank='2', suit='diamonds')\n",
      "14\n",
      "Card(rank='3', suit='diamonds')\n",
      "15\n",
      "Card(rank='4', suit='diamonds')\n",
      "16\n",
      "Card(rank='5', suit='diamonds')\n",
      "17\n",
      "Card(rank='6', suit='diamonds')\n",
      "18\n",
      "Card(rank='7', suit='diamonds')\n",
      "19\n",
      "Card(rank='8', suit='diamonds')\n",
      "20\n",
      "Card(rank='9', suit='diamonds')\n",
      "21\n",
      "Card(rank='10', suit='diamonds')\n",
      "22\n",
      "Card(rank='J', suit='diamonds')\n",
      "23\n",
      "Card(rank='Q', suit='diamonds')\n",
      "24\n",
      "Card(rank='K', suit='diamonds')\n",
      "25\n",
      "Card(rank='A', suit='diamonds')\n",
      "26\n",
      "Card(rank='2', suit='clubs')\n",
      "27\n",
      "Card(rank='3', suit='clubs')\n",
      "28\n",
      "Card(rank='4', suit='clubs')\n",
      "29\n",
      "Card(rank='5', suit='clubs')\n",
      "30\n",
      "Card(rank='6', suit='clubs')\n",
      "31\n",
      "Card(rank='7', suit='clubs')\n",
      "32\n",
      "Card(rank='8', suit='clubs')\n",
      "33\n",
      "Card(rank='9', suit='clubs')\n",
      "34\n",
      "Card(rank='10', suit='clubs')\n",
      "35\n",
      "Card(rank='J', suit='clubs')\n",
      "36\n",
      "Card(rank='Q', suit='clubs')\n",
      "37\n",
      "Card(rank='K', suit='clubs')\n",
      "38\n",
      "Card(rank='A', suit='clubs')\n",
      "39\n",
      "Card(rank='2', suit='hearts')\n",
      "40\n",
      "Card(rank='3', suit='hearts')\n",
      "41\n",
      "Card(rank='4', suit='hearts')\n",
      "42\n",
      "Card(rank='5', suit='hearts')\n",
      "43\n",
      "Card(rank='6', suit='hearts')\n",
      "44\n",
      "Card(rank='7', suit='hearts')\n",
      "45\n",
      "Card(rank='8', suit='hearts')\n",
      "46\n",
      "Card(rank='9', suit='hearts')\n",
      "47\n",
      "Card(rank='10', suit='hearts')\n",
      "48\n",
      "Card(rank='J', suit='hearts')\n",
      "49\n",
      "Card(rank='Q', suit='hearts')\n",
      "50\n",
      "Card(rank='K', suit='hearts')\n",
      "51\n",
      "Card(rank='A', suit='hearts')\n",
      "52\n"
     ]
    }
   ],
   "source": [
    "# because of __getitem__ our class is iterable\n",
    "for cards in deck:\n",
    "    print(cards)"
   ]
  },
  {
   "cell_type": "code",
   "execution_count": 52,
   "id": "b21a2412-3bef-4209-a1ab-6792a2efc8ba",
   "metadata": {},
   "outputs": [
    {
     "name": "stdout",
     "output_type": "stream",
     "text": [
      "51\n",
      "Card(rank='A', suit='hearts')\n",
      "50\n",
      "Card(rank='K', suit='hearts')\n",
      "49\n",
      "Card(rank='Q', suit='hearts')\n",
      "48\n",
      "Card(rank='J', suit='hearts')\n",
      "47\n",
      "Card(rank='10', suit='hearts')\n",
      "46\n",
      "Card(rank='9', suit='hearts')\n",
      "45\n",
      "Card(rank='8', suit='hearts')\n",
      "44\n",
      "Card(rank='7', suit='hearts')\n",
      "43\n",
      "Card(rank='6', suit='hearts')\n",
      "42\n",
      "Card(rank='5', suit='hearts')\n",
      "41\n",
      "Card(rank='4', suit='hearts')\n",
      "40\n",
      "Card(rank='3', suit='hearts')\n",
      "39\n",
      "Card(rank='2', suit='hearts')\n",
      "38\n",
      "Card(rank='A', suit='clubs')\n",
      "37\n",
      "Card(rank='K', suit='clubs')\n",
      "36\n",
      "Card(rank='Q', suit='clubs')\n",
      "35\n",
      "Card(rank='J', suit='clubs')\n",
      "34\n",
      "Card(rank='10', suit='clubs')\n",
      "33\n",
      "Card(rank='9', suit='clubs')\n",
      "32\n",
      "Card(rank='8', suit='clubs')\n",
      "31\n",
      "Card(rank='7', suit='clubs')\n",
      "30\n",
      "Card(rank='6', suit='clubs')\n",
      "29\n",
      "Card(rank='5', suit='clubs')\n",
      "28\n",
      "Card(rank='4', suit='clubs')\n",
      "27\n",
      "Card(rank='3', suit='clubs')\n",
      "26\n",
      "Card(rank='2', suit='clubs')\n",
      "25\n",
      "Card(rank='A', suit='diamonds')\n",
      "24\n",
      "Card(rank='K', suit='diamonds')\n",
      "23\n",
      "Card(rank='Q', suit='diamonds')\n",
      "22\n",
      "Card(rank='J', suit='diamonds')\n",
      "21\n",
      "Card(rank='10', suit='diamonds')\n",
      "20\n",
      "Card(rank='9', suit='diamonds')\n",
      "19\n",
      "Card(rank='8', suit='diamonds')\n",
      "18\n",
      "Card(rank='7', suit='diamonds')\n",
      "17\n",
      "Card(rank='6', suit='diamonds')\n",
      "16\n",
      "Card(rank='5', suit='diamonds')\n",
      "15\n",
      "Card(rank='4', suit='diamonds')\n",
      "14\n",
      "Card(rank='3', suit='diamonds')\n",
      "13\n",
      "Card(rank='2', suit='diamonds')\n",
      "12\n",
      "Card(rank='A', suit='spades')\n",
      "11\n",
      "Card(rank='K', suit='spades')\n",
      "10\n",
      "Card(rank='Q', suit='spades')\n",
      "9\n",
      "Card(rank='J', suit='spades')\n",
      "8\n",
      "Card(rank='10', suit='spades')\n",
      "7\n",
      "Card(rank='9', suit='spades')\n",
      "6\n",
      "Card(rank='8', suit='spades')\n",
      "5\n",
      "Card(rank='7', suit='spades')\n",
      "4\n",
      "Card(rank='6', suit='spades')\n",
      "3\n",
      "Card(rank='5', suit='spades')\n",
      "2\n",
      "Card(rank='4', suit='spades')\n",
      "1\n",
      "Card(rank='3', suit='spades')\n",
      "0\n",
      "Card(rank='2', suit='spades')\n"
     ]
    }
   ],
   "source": [
    "# we can iterat in revers\n",
    "for card in reversed(deck):\n",
    "    print(card)"
   ]
  },
  {
   "cell_type": "markdown",
   "id": "b03c21a4-4568-41fd-9153-e77d086edaa2",
   "metadata": {},
   "source": [
    "if the FrenchDeck does not have \\_\\_contains\\_\\_ method, then **in** operator does a sequential scan"
   ]
  },
  {
   "cell_type": "code",
   "execution_count": 54,
   "id": "952f3f0f-d598-46a0-9aa2-7da56459be6d",
   "metadata": {},
   "outputs": [
    {
     "name": "stdout",
     "output_type": "stream",
     "text": [
      "0\n",
      "1\n",
      "2\n",
      "3\n",
      "4\n",
      "5\n",
      "6\n",
      "7\n",
      "8\n",
      "9\n",
      "10\n",
      "11\n",
      "12\n",
      "13\n",
      "14\n",
      "15\n",
      "16\n",
      "17\n",
      "18\n",
      "19\n",
      "20\n",
      "21\n",
      "22\n",
      "23\n",
      "24\n",
      "25\n",
      "26\n",
      "27\n",
      "28\n",
      "29\n",
      "30\n",
      "31\n",
      "32\n",
      "33\n",
      "34\n",
      "35\n",
      "36\n",
      "37\n",
      "38\n",
      "39\n",
      "40\n",
      "41\n",
      "42\n",
      "43\n",
      "44\n"
     ]
    },
    {
     "data": {
      "text/plain": [
       "True"
      ]
     },
     "execution_count": 54,
     "metadata": {},
     "output_type": "execute_result"
    }
   ],
   "source": [
    "Card('7', 'hearts') in deck"
   ]
  },
  {
   "cell_type": "markdown",
   "id": "31f140dc-a7b7-477c-9208-0c0d7af605e1",
   "metadata": {},
   "source": [
    "In playing cards, the ranking system works this way  \n",
    "+ Aces A being the highest\n",
    "+ Suit have Spades (highest), hearts, diamonds, Clubs (lowest)"
   ]
  },
  {
   "cell_type": "code",
   "execution_count": 55,
   "id": "9082d24d-3fb5-4bd0-ba6f-40905a8471af",
   "metadata": {},
   "outputs": [],
   "source": [
    "suit_values = dict(spades=3, hearts=2, diamonds=1, clubs=0)"
   ]
  },
  {
   "cell_type": "code",
   "execution_count": 56,
   "id": "b14da49c-058d-48a5-9374-061e512c18ce",
   "metadata": {},
   "outputs": [],
   "source": [
    "def spades_high(card):\n",
    "    rank_value = FrenchDeck.ranks.index(card.rank)\n",
    "    return rank_value * len(suit_values) + suit_values[card.suit]"
   ]
  },
  {
   "cell_type": "code",
   "execution_count": 57,
   "id": "c8ee7731-dd49-4c9e-8174-1f970e37bccb",
   "metadata": {},
   "outputs": [
    {
     "name": "stdout",
     "output_type": "stream",
     "text": [
      "0\n",
      "1\n",
      "2\n",
      "3\n",
      "4\n",
      "5\n",
      "6\n",
      "7\n",
      "8\n",
      "9\n",
      "10\n",
      "11\n",
      "12\n",
      "13\n",
      "14\n",
      "15\n",
      "16\n",
      "17\n",
      "18\n",
      "19\n",
      "20\n",
      "21\n",
      "22\n",
      "23\n",
      "24\n",
      "25\n",
      "26\n",
      "27\n",
      "28\n",
      "29\n",
      "30\n",
      "31\n",
      "32\n",
      "33\n",
      "34\n",
      "35\n",
      "36\n",
      "37\n",
      "38\n",
      "39\n",
      "40\n",
      "41\n",
      "42\n",
      "43\n",
      "44\n",
      "45\n",
      "46\n",
      "47\n",
      "48\n",
      "49\n",
      "50\n",
      "51\n",
      "52\n",
      "Card(rank='2', suit='clubs')\n",
      "Card(rank='2', suit='diamonds')\n",
      "Card(rank='2', suit='hearts')\n",
      "Card(rank='2', suit='spades')\n",
      "Card(rank='3', suit='clubs')\n",
      "Card(rank='3', suit='diamonds')\n",
      "Card(rank='3', suit='hearts')\n",
      "Card(rank='3', suit='spades')\n",
      "Card(rank='4', suit='clubs')\n",
      "Card(rank='4', suit='diamonds')\n",
      "Card(rank='4', suit='hearts')\n",
      "Card(rank='4', suit='spades')\n",
      "Card(rank='5', suit='clubs')\n",
      "Card(rank='5', suit='diamonds')\n",
      "Card(rank='5', suit='hearts')\n",
      "Card(rank='5', suit='spades')\n",
      "Card(rank='6', suit='clubs')\n",
      "Card(rank='6', suit='diamonds')\n",
      "Card(rank='6', suit='hearts')\n",
      "Card(rank='6', suit='spades')\n",
      "Card(rank='7', suit='clubs')\n",
      "Card(rank='7', suit='diamonds')\n",
      "Card(rank='7', suit='hearts')\n",
      "Card(rank='7', suit='spades')\n",
      "Card(rank='8', suit='clubs')\n",
      "Card(rank='8', suit='diamonds')\n",
      "Card(rank='8', suit='hearts')\n",
      "Card(rank='8', suit='spades')\n",
      "Card(rank='9', suit='clubs')\n",
      "Card(rank='9', suit='diamonds')\n",
      "Card(rank='9', suit='hearts')\n",
      "Card(rank='9', suit='spades')\n",
      "Card(rank='10', suit='clubs')\n",
      "Card(rank='10', suit='diamonds')\n",
      "Card(rank='10', suit='hearts')\n",
      "Card(rank='10', suit='spades')\n",
      "Card(rank='J', suit='clubs')\n",
      "Card(rank='J', suit='diamonds')\n",
      "Card(rank='J', suit='hearts')\n",
      "Card(rank='J', suit='spades')\n",
      "Card(rank='Q', suit='clubs')\n",
      "Card(rank='Q', suit='diamonds')\n",
      "Card(rank='Q', suit='hearts')\n",
      "Card(rank='Q', suit='spades')\n",
      "Card(rank='K', suit='clubs')\n",
      "Card(rank='K', suit='diamonds')\n",
      "Card(rank='K', suit='hearts')\n",
      "Card(rank='K', suit='spades')\n",
      "Card(rank='A', suit='clubs')\n",
      "Card(rank='A', suit='diamonds')\n",
      "Card(rank='A', suit='hearts')\n",
      "Card(rank='A', suit='spades')\n"
     ]
    }
   ],
   "source": [
    "for card in sorted(deck, key=spades_high):\n",
    "    print(card)"
   ]
  },
  {
   "cell_type": "code",
   "execution_count": null,
   "id": "bb2ebb5b-374e-4a92-86e9-79b3c24710b3",
   "metadata": {},
   "outputs": [],
   "source": []
  }
 ],
 "metadata": {
  "kernelspec": {
   "display_name": "Python 3 (ipykernel)",
   "language": "python",
   "name": "python3"
  },
  "language_info": {
   "codemirror_mode": {
    "name": "ipython",
    "version": 3
   },
   "file_extension": ".py",
   "mimetype": "text/x-python",
   "name": "python",
   "nbconvert_exporter": "python",
   "pygments_lexer": "ipython3",
   "version": "3.7.3"
  }
 },
 "nbformat": 4,
 "nbformat_minor": 5
}
